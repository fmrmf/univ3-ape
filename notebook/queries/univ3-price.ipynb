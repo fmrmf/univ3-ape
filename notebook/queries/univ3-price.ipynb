{
 "cells": [
  {
   "cell_type": "code",
   "execution_count": 1,
   "id": "322cd755",
   "metadata": {},
   "outputs": [],
   "source": [
    "\"\"\"\n",
    "univ3-price.ipynb\n",
    "\n",
    "Goal with this notebook is to plot the historical price timeseries\n",
    "of a given pool over time.\n",
    "\"\"\"\n",
    "# switch to univ3-ape wd first for ape project to work properly for all contract address possibilities\n",
    "import os\n",
    "from pathlib import Path\n",
    "\n",
    "if Path(*Path(os.getcwd()).parts[-3:]) == Path('univ3-ape/notebook/queries'):\n",
    "    os.chdir('../..')"
   ]
  },
  {
   "cell_type": "code",
   "execution_count": 3,
   "id": "78415dcc",
   "metadata": {},
   "outputs": [],
   "source": [
    "import matplotlib.pyplot as plt\n",
    "import numpy as np\n",
    "import pandas as pd\n",
    "import typing as tp\n",
    "from ape import accounts, chain, Contract, networks, project"
   ]
  },
  {
   "cell_type": "code",
   "execution_count": 4,
   "id": "c02f3afd",
   "metadata": {},
   "outputs": [
    {
     "data": {
      "text/plain": [
       "<alchemy chain_id=1>"
      ]
     },
     "execution_count": 4,
     "metadata": {},
     "output_type": "execute_result"
    }
   ],
   "source": [
    "# SEE: https://gist.github.com/banteg/dcf6082ff7fc6ad51ce220146f29d9ff\n",
    "networks.parse_network_choice('ethereum:mainnet:alchemy').__enter__()"
   ]
  },
  {
   "cell_type": "code",
   "execution_count": 5,
   "id": "6f9ef239",
   "metadata": {},
   "outputs": [],
   "source": [
    "univ3 = project.dependencies['UniswapV3Core']['main']"
   ]
  },
  {
   "cell_type": "code",
   "execution_count": 8,
   "id": "918182ec",
   "metadata": {},
   "outputs": [
    {
     "data": {
      "text/plain": [
       "<UniswapV3Factory 0x1F98431c8aD98523631AE4a59f267346ea31F984>"
      ]
     },
     "execution_count": 8,
     "metadata": {},
     "output_type": "execute_result"
    }
   ],
   "source": [
    "# SEE: https://docs.uniswap.org/contracts/v3/reference/deployments\n",
    "factory = Contract(\"0x1F98431c8aD98523631AE4a59f267346ea31F984\")\n",
    "factory"
   ]
  },
  {
   "cell_type": "code",
   "execution_count": 6,
   "id": "896bc285",
   "metadata": {},
   "outputs": [],
   "source": [
    "head_block = chain.blocks.head.number"
   ]
  },
  {
   "cell_type": "code",
   "execution_count": 30,
   "id": "daf96049",
   "metadata": {},
   "outputs": [],
   "source": [
    "deploy_block = 12369621  # block when factory deployed\n",
    "step = 2400  # sample price once per 8 hour\n",
    "start_block = head_block - 7200 * 365 * 2 # last 2 years"
   ]
  },
  {
   "cell_type": "code",
   "execution_count": 31,
   "id": "eb148eb2",
   "metadata": {},
   "outputs": [
    {
     "data": {
      "text/plain": [
       "range(12509859, 17765859, 2400)"
      ]
     },
     "execution_count": 31,
     "metadata": {},
     "output_type": "execute_result"
    }
   ],
   "source": [
    "# relevant block numbers to query for\n",
    "blocks = range(start_block, head_block, step)\n",
    "blocks"
   ]
  },
  {
   "cell_type": "code",
   "execution_count": 32,
   "id": "6a1fa74d",
   "metadata": {},
   "outputs": [
    {
     "data": {
      "text/plain": [
       "2190"
      ]
     },
     "execution_count": 32,
     "metadata": {},
     "output_type": "execute_result"
    }
   ],
   "source": [
    "len(blocks)"
   ]
  },
  {
   "cell_type": "code",
   "execution_count": 11,
   "id": "4ba3526e",
   "metadata": {},
   "outputs": [],
   "source": [
    "pool = univ3.UniswapV3Pool.at(\"0x88e6A0c2dDD26FEEb64F039a2c41296FcB3f5640\")  # USDC/ETH 0.05%"
   ]
  },
  {
   "cell_type": "code",
   "execution_count": 12,
   "id": "6f4b11ad",
   "metadata": {},
   "outputs": [
    {
     "name": "stdout",
     "output_type": "stream",
     "text": [
      "token0: 0xA0b86991c6218b36c1d19D4a2e9Eb0cE3606eB48, token1: 0xC02aaA39b223FE8D0A0e5C4F27eAD9083C756Cc2, fee: 500\n"
     ]
    }
   ],
   "source": [
    "print(f\"token0: {pool.token0()}, token1: {pool.token1()}, fee: {pool.fee()}\")"
   ]
  },
  {
   "cell_type": "code",
   "execution_count": 14,
   "id": "3291952a",
   "metadata": {},
   "outputs": [
    {
     "data": {
      "text/plain": [
       "slot0_return(sqrtPriceX96=1842074316720006327801396470392331, tick=201091, observationIndex=112, observationCardinality=722, observationCardinalityNext=722, feeProtocol=0, unlocked=True)"
      ]
     },
     "execution_count": 14,
     "metadata": {},
     "output_type": "execute_result"
    }
   ],
   "source": [
    "slot0 = pool.slot0()\n",
    "slot0"
   ]
  },
  {
   "cell_type": "code",
   "execution_count": 33,
   "id": "f5d66faf",
   "metadata": {},
   "outputs": [
    {
     "name": "stdout",
     "output_type": "stream",
     "text": [
      "CPU times: user 1 µs, sys: 0 ns, total: 1 µs\n",
      "Wall time: 2.86 µs\n",
      "Processing block 17763459 ...\r"
     ]
    }
   ],
   "source": [
    "%time\n",
    "\n",
    "# query for tick data each block and insert into pandas dataframe\n",
    "FILENAME = f\"notebook/data/price_{pool.address}_{start_block}_{head_block}_{step}.csv\"\n",
    "is_head = True\n",
    "for block in blocks:\n",
    "    print(f\"Processing block {block} ...\", end='\\r')\n",
    "    \n",
    "    # get the sqrt price data at block\n",
    "    slot0 = pool.slot0(block_identifier=block)\n",
    "    row = {'block_number': [block], 'sqrt_price_x96': [slot0.sqrtPriceX96]}\n",
    "        \n",
    "    # convert to pd dataframe then append to file\n",
    "    df = pd.DataFrame(data=row)\n",
    "    df.to_csv(FILENAME, mode='a', index=False, header=is_head)\n",
    "        \n",
    "    if is_head:\n",
    "        is_head = False"
   ]
  },
  {
   "cell_type": "code",
   "execution_count": null,
   "id": "26e99d2c",
   "metadata": {},
   "outputs": [],
   "source": []
  }
 ],
 "metadata": {
  "kernelspec": {
   "display_name": "Python 3 (ipykernel)",
   "language": "python",
   "name": "python3"
  },
  "language_info": {
   "codemirror_mode": {
    "name": "ipython",
    "version": 3
   },
   "file_extension": ".py",
   "mimetype": "text/x-python",
   "name": "python",
   "nbconvert_exporter": "python",
   "pygments_lexer": "ipython3",
   "version": "3.9.6"
  }
 },
 "nbformat": 4,
 "nbformat_minor": 5
}
