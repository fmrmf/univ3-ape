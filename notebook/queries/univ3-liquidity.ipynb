{
 "cells": [
  {
   "cell_type": "code",
   "execution_count": 1,
   "id": "a02f085c",
   "metadata": {},
   "outputs": [],
   "source": [
    "\"\"\"\n",
    "univ3-liquidity.ipynb\n",
    "\n",
    "Goal with this notebook is to plot the liquidity distribution\n",
    "of a given pool over time.\n",
    "\n",
    "Should be able to view a 2-D snapshot of liquidity at a particular\n",
    "block (with time slider) and, more generally, a 3D plot of the full\n",
    "liquidity distribution history over time.\n",
    "\"\"\"\n",
    "# switch to univ3-ape wd first for ape project to work properly\n",
    "import os\n",
    "from pathlib import Path\n",
    "\n",
    "if Path(*Path(os.getcwd()).parts[-3:]) == Path('univ3-ape/notebook/queries'):\n",
    "    os.chdir('../..')"
   ]
  },
  {
   "cell_type": "code",
   "execution_count": 3,
   "id": "8f602708",
   "metadata": {},
   "outputs": [],
   "source": [
    "import matplotlib.pyplot as plt\n",
    "import numpy as np\n",
    "import pandas as pd\n",
    "import typing as tp\n",
    "from ape import accounts, chain, Contract, networks, project"
   ]
  },
  {
   "cell_type": "code",
   "execution_count": 4,
   "id": "4d563d2b",
   "metadata": {},
   "outputs": [
    {
     "data": {
      "text/plain": [
       "<alchemy chain_id=1>"
      ]
     },
     "execution_count": 4,
     "metadata": {},
     "output_type": "execute_result"
    }
   ],
   "source": [
    "# SEE: https://gist.github.com/banteg/dcf6082ff7fc6ad51ce220146f29d9ff\n",
    "networks.parse_network_choice('ethereum:mainnet:alchemy').__enter__()"
   ]
  },
  {
   "cell_type": "code",
   "execution_count": 5,
   "id": "300b8cf3",
   "metadata": {},
   "outputs": [],
   "source": [
    "univ3 = project.dependencies['UniswapV3Core']['main']"
   ]
  },
  {
   "cell_type": "code",
   "execution_count": 6,
   "id": "ef0b7993",
   "metadata": {},
   "outputs": [
    {
     "data": {
      "text/plain": [
       "<UniswapV3Factory 0x1F98431c8aD98523631AE4a59f267346ea31F984>"
      ]
     },
     "execution_count": 6,
     "metadata": {},
     "output_type": "execute_result"
    }
   ],
   "source": [
    "# SEE: https://docs.uniswap.org/contracts/v3/reference/deployments\n",
    "factory = Contract(\"0x1F98431c8aD98523631AE4a59f267346ea31F984\")\n",
    "factory"
   ]
  },
  {
   "cell_type": "code",
   "execution_count": 7,
   "id": "b952c957",
   "metadata": {},
   "outputs": [],
   "source": [
    "head_block = chain.blocks.head.number"
   ]
  },
  {
   "cell_type": "code",
   "execution_count": 8,
   "id": "88159853",
   "metadata": {},
   "outputs": [],
   "source": [
    "deploy_block = 12369621  # block when factory deployed\n",
    "step = 7200  # sample liquidity distribution once per day\n",
    "start_block = head_block - 7200 * 7 # last 7 days ... TODO: last 6 months"
   ]
  },
  {
   "cell_type": "code",
   "execution_count": 9,
   "id": "c77c68de",
   "metadata": {},
   "outputs": [
    {
     "data": {
      "text/plain": [
       "range(16577835, 16628235, 7200)"
      ]
     },
     "execution_count": 9,
     "metadata": {},
     "output_type": "execute_result"
    }
   ],
   "source": [
    "# relevant block numbers to query for\n",
    "blocks = range(start_block, head_block, step)\n",
    "blocks"
   ]
  },
  {
   "cell_type": "code",
   "execution_count": 10,
   "id": "1371ae9d",
   "metadata": {},
   "outputs": [],
   "source": [
    "pool = univ3.UniswapV3Pool.at(\"0xa3f558aebAecAf0e11cA4b2199cC5Ed341edfd74\")  # LDO/ETH 0.3%"
   ]
  },
  {
   "cell_type": "code",
   "execution_count": 11,
   "id": "9a1df649",
   "metadata": {},
   "outputs": [
    {
     "name": "stdout",
     "output_type": "stream",
     "text": [
      "token0: 0x5A98FcBEA516Cf06857215779Fd812CA3beF1B32, token1: 0xC02aaA39b223FE8D0A0e5C4F27eAD9083C756Cc2, fee: 3000\n"
     ]
    }
   ],
   "source": [
    "print(f\"token0: {pool.token0()}, token1: {pool.token1()}, fee: {pool.fee()}\")"
   ]
  },
  {
   "cell_type": "code",
   "execution_count": 12,
   "id": "aafde798",
   "metadata": {},
   "outputs": [
    {
     "data": {
      "text/plain": [
       "slot0_return(sqrtPriceX96=3238180615412954133714266404, tick=-63950, observationIndex=0, observationCardinality=1, observationCardinalityNext=1, feeProtocol=0, unlocked=True)"
      ]
     },
     "execution_count": 12,
     "metadata": {},
     "output_type": "execute_result"
    }
   ],
   "source": [
    "slot0 = pool.slot0()\n",
    "slot0"
   ]
  },
  {
   "cell_type": "code",
   "execution_count": 13,
   "id": "1292fe9c",
   "metadata": {},
   "outputs": [],
   "source": [
    "liquidity = pool.liquidity()\n",
    "tick_spacing = pool.tickSpacing()"
   ]
  },
  {
   "cell_type": "code",
   "execution_count": 14,
   "id": "b94cd1ca",
   "metadata": {},
   "outputs": [
    {
     "name": "stdout",
     "output_type": "stream",
     "text": [
      "max_tick: 887220, min_tick: -887220\n"
     ]
    }
   ],
   "source": [
    "TICK_MATH_MAX_TICK = 887272\n",
    "max_tick = TICK_MATH_MAX_TICK - (TICK_MATH_MAX_TICK % tick_spacing)\n",
    "min_tick = -max_tick\n",
    "print(f\"max_tick: {max_tick}, min_tick: {min_tick}\")"
   ]
  },
  {
   "cell_type": "code",
   "execution_count": 18,
   "id": "e6948760",
   "metadata": {},
   "outputs": [
    {
     "data": {
      "text/plain": [
       "range(-887220, 887220, 60)"
      ]
     },
     "execution_count": 18,
     "metadata": {},
     "output_type": "execute_result"
    }
   ],
   "source": [
    "# relevant ticks to check liquidity for\n",
    "ticks = range(min_tick, max_tick, tick_spacing)\n",
    "ticks"
   ]
  },
  {
   "cell_type": "code",
   "execution_count": null,
   "id": "73119c83",
   "metadata": {},
   "outputs": [],
   "source": [
    "%time\n",
    "\n",
    "# query for tick data each block and insert into pandas dataframe\n",
    "FILENAME = f\"notebook/data/liquidity_{pool.address}_{start_block}_{head_block}_{step}.csv\"\n",
    "is_head = True\n",
    "for block in blocks:\n",
    "    for tick in ticks:\n",
    "        print(f\"Processing tick {tick} at block {block} ...\", end='\\r')\n",
    "        row = {'block_number': [block], 'tick': [tick]}\n",
    "        \n",
    "        # get the liquidity data for tick at block\n",
    "        ret = pool.ticks(tick, block_identifier=block)\n",
    "        data = {k: [v] for k, v in ret.items()}\n",
    "        row.update(data)\n",
    "        \n",
    "        # convert to pd dataframe then append to file\n",
    "        df = pd.DataFrame(data=row)\n",
    "        df.to_csv(FILENAME, mode='a', index=False, header=is_head)\n",
    "        \n",
    "        if is_head:\n",
    "            is_head = False"
   ]
  },
  {
   "cell_type": "code",
   "execution_count": null,
   "id": "6b0c044e",
   "metadata": {},
   "outputs": [],
   "source": []
  }
 ],
 "metadata": {
  "kernelspec": {
   "display_name": "Python 3 (ipykernel)",
   "language": "python",
   "name": "python3"
  },
  "language_info": {
   "codemirror_mode": {
    "name": "ipython",
    "version": 3
   },
   "file_extension": ".py",
   "mimetype": "text/x-python",
   "name": "python",
   "nbconvert_exporter": "python",
   "pygments_lexer": "ipython3",
   "version": "3.9.6"
  }
 },
 "nbformat": 4,
 "nbformat_minor": 5
}
