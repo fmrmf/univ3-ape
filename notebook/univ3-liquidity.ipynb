{
 "cells": [
  {
   "cell_type": "code",
   "execution_count": 1,
   "id": "a02f085c",
   "metadata": {},
   "outputs": [],
   "source": [
    "\"\"\"\n",
    "univ3-liquidity.ipynb\n",
    "\n",
    "Goal with this notebook is to plot the liquidity distribution\n",
    "of a given pool over time.\n",
    "\n",
    "Should be able to view a 2-D snapshot of liquidity at a particular\n",
    "block (with time slider) and, more generally, a 3D plot of the full\n",
    "liquidity distribution history over time.\n",
    "\"\"\"\n",
    "# switch to univ3-ape wd first for ape project to work properly\n",
    "import os\n",
    "from pathlib import Path\n",
    "\n",
    "if Path(*Path(os.getcwd()).parts[-2:]) == Path('univ3-ape/notebook'):\n",
    "    os.chdir('..')"
   ]
  },
  {
   "cell_type": "code",
   "execution_count": 3,
   "id": "8f602708",
   "metadata": {},
   "outputs": [],
   "source": [
    "import matplotlib.pyplot as plt\n",
    "import numpy as np\n",
    "import pandas as pd\n",
    "import typing as tp\n",
    "from ape import accounts, chain, Contract, networks, project"
   ]
  },
  {
   "cell_type": "code",
   "execution_count": 4,
   "id": "4d563d2b",
   "metadata": {},
   "outputs": [
    {
     "data": {
      "text/plain": [
       "<alchemy chain_id=1>"
      ]
     },
     "execution_count": 4,
     "metadata": {},
     "output_type": "execute_result"
    }
   ],
   "source": [
    "# SEE: https://gist.github.com/banteg/dcf6082ff7fc6ad51ce220146f29d9ff\n",
    "networks.parse_network_choice('ethereum:mainnet:alchemy').__enter__()"
   ]
  },
  {
   "cell_type": "code",
   "execution_count": 6,
   "id": "300b8cf3",
   "metadata": {},
   "outputs": [],
   "source": [
    "univ3 = project.dependencies['UniswapV3Core']['main']"
   ]
  },
  {
   "cell_type": "code",
   "execution_count": 7,
   "id": "ef0b7993",
   "metadata": {},
   "outputs": [
    {
     "data": {
      "text/plain": [
       "<UniswapV3Factory 0x1F98431c8aD98523631AE4a59f267346ea31F984>"
      ]
     },
     "execution_count": 7,
     "metadata": {},
     "output_type": "execute_result"
    }
   ],
   "source": [
    "# SEE: https://docs.uniswap.org/contracts/v3/reference/deployments\n",
    "factory = Contract(\"0x1F98431c8aD98523631AE4a59f267346ea31F984\")\n",
    "factory"
   ]
  },
  {
   "cell_type": "code",
   "execution_count": 16,
   "id": "88159853",
   "metadata": {},
   "outputs": [],
   "source": [
    "deploy_block = 12369621  # block when factory deployed\n",
    "step = 7200  # sampling per day"
   ]
  },
  {
   "cell_type": "code",
   "execution_count": 17,
   "id": "1371ae9d",
   "metadata": {},
   "outputs": [
    {
     "data": {
      "text/plain": [
       "<UniswapV3Pool 0xa3f558aebAecAf0e11cA4b2199cC5Ed341edfd74>"
      ]
     },
     "execution_count": 17,
     "metadata": {},
     "output_type": "execute_result"
    }
   ],
   "source": [
    "pool = univ3.UniswapV3Pool.at(\"0xa3f558aebAecAf0e11cA4b2199cC5Ed341edfd74\")  # LDO/ETH 0.3%\n",
    "pool"
   ]
  },
  {
   "cell_type": "code",
   "execution_count": 18,
   "id": "9a1df649",
   "metadata": {},
   "outputs": [
    {
     "name": "stdout",
     "output_type": "stream",
     "text": [
      "token0: 0x5A98FcBEA516Cf06857215779Fd812CA3beF1B32, token1: 0xC02aaA39b223FE8D0A0e5C4F27eAD9083C756Cc2, fee: 3000\n"
     ]
    }
   ],
   "source": [
    "print(f\"token0: {pool.token0()}, token1: {pool.token1()}, fee: {pool.fee()}\")"
   ]
  },
  {
   "cell_type": "code",
   "execution_count": 22,
   "id": "aafde798",
   "metadata": {},
   "outputs": [
    {
     "data": {
      "text/plain": [
       "slot0_return(sqrtPriceX96=3130382233669003412885700875, tick=-64627, observationIndex=0, observationCardinality=1, observationCardinalityNext=1, feeProtocol=0, unlocked=True)"
      ]
     },
     "execution_count": 22,
     "metadata": {},
     "output_type": "execute_result"
    }
   ],
   "source": [
    "slot0 = pool.slot0()\n",
    "slot0"
   ]
  },
  {
   "cell_type": "code",
   "execution_count": 30,
   "id": "1292fe9c",
   "metadata": {},
   "outputs": [],
   "source": [
    "liquidity = pool.liquidity()\n",
    "tick_spacing = pool.tickSpacing()"
   ]
  },
  {
   "cell_type": "code",
   "execution_count": 49,
   "id": "8942b915",
   "metadata": {},
   "outputs": [
    {
     "name": "stdout",
     "output_type": "stream",
     "text": [
      "tick_return for 0: ticks_return(liquidityGross=0, liquidityNet=0, feeGrowthOutside0X128=0, feeGrowthOutside1X128=0, tickCumulativeOutside=0, secondsPerLiquidityOutsideX128=0, secondsOutside=0, initialized=False)\n",
      "tick_return for 1: ticks_return(liquidityGross=0, liquidityNet=0, feeGrowthOutside0X128=0, feeGrowthOutside1X128=0, tickCumulativeOutside=0, secondsPerLiquidityOutsideX128=0, secondsOutside=0, initialized=False)\n",
      "tick_return for 2: ticks_return(liquidityGross=0, liquidityNet=0, feeGrowthOutside0X128=0, feeGrowthOutside1X128=0, tickCumulativeOutside=0, secondsPerLiquidityOutsideX128=0, secondsOutside=0, initialized=False)\n",
      "tick_return for 3: ticks_return(liquidityGross=0, liquidityNet=0, feeGrowthOutside0X128=0, feeGrowthOutside1X128=0, tickCumulativeOutside=0, secondsPerLiquidityOutsideX128=0, secondsOutside=0, initialized=False)\n",
      "tick_return for 4: ticks_return(liquidityGross=0, liquidityNet=0, feeGrowthOutside0X128=0, feeGrowthOutside1X128=0, tickCumulativeOutside=0, secondsPerLiquidityOutsideX128=0, secondsOutside=0, initialized=False)\n",
      "tick_return for 5: ticks_return(liquidityGross=0, liquidityNet=0, feeGrowthOutside0X128=0, feeGrowthOutside1X128=0, tickCumulativeOutside=0, secondsPerLiquidityOutsideX128=0, secondsOutside=0, initialized=False)\n",
      "tick_return for 6: ticks_return(liquidityGross=0, liquidityNet=0, feeGrowthOutside0X128=0, feeGrowthOutside1X128=0, tickCumulativeOutside=0, secondsPerLiquidityOutsideX128=0, secondsOutside=0, initialized=False)\n",
      "tick_return for 7: ticks_return(liquidityGross=18711076488289510964, liquidityNet=-18711076488289510964, feeGrowthOutside0X128=1277734942401901730538927145966390172532, feeGrowthOutside1X128=1625999343943735140410645946063480752, tickCumulativeOutside=-3779006125989, secondsPerLiquidityOutsideX128=9265837128337382377500867594996312089130547637, secondsOutside=1675972979, initialized=True)\n",
      "tick_return for 8: ticks_return(liquidityGross=0, liquidityNet=0, feeGrowthOutside0X128=0, feeGrowthOutside1X128=0, tickCumulativeOutside=0, secondsPerLiquidityOutsideX128=0, secondsOutside=0, initialized=False)\n",
      "tick_return for 9: ticks_return(liquidityGross=0, liquidityNet=0, feeGrowthOutside0X128=0, feeGrowthOutside1X128=0, tickCumulativeOutside=0, secondsPerLiquidityOutsideX128=0, secondsOutside=0, initialized=False)\n",
      "tick_return for 10: ticks_return(liquidityGross=0, liquidityNet=0, feeGrowthOutside0X128=0, feeGrowthOutside1X128=0, tickCumulativeOutside=0, secondsPerLiquidityOutsideX128=0, secondsOutside=0, initialized=False)\n",
      "tick_return for 11: ticks_return(liquidityGross=0, liquidityNet=0, feeGrowthOutside0X128=0, feeGrowthOutside1X128=0, tickCumulativeOutside=0, secondsPerLiquidityOutsideX128=0, secondsOutside=0, initialized=False)\n",
      "tick_return for 12: ticks_return(liquidityGross=0, liquidityNet=0, feeGrowthOutside0X128=0, feeGrowthOutside1X128=0, tickCumulativeOutside=0, secondsPerLiquidityOutsideX128=0, secondsOutside=0, initialized=False)\n",
      "tick_return for 13: ticks_return(liquidityGross=0, liquidityNet=0, feeGrowthOutside0X128=0, feeGrowthOutside1X128=0, tickCumulativeOutside=0, secondsPerLiquidityOutsideX128=0, secondsOutside=0, initialized=False)\n",
      "tick_return for 14: ticks_return(liquidityGross=0, liquidityNet=0, feeGrowthOutside0X128=0, feeGrowthOutside1X128=0, tickCumulativeOutside=0, secondsPerLiquidityOutsideX128=0, secondsOutside=0, initialized=False)\n",
      "tick_return for 15: ticks_return(liquidityGross=0, liquidityNet=0, feeGrowthOutside0X128=0, feeGrowthOutside1X128=0, tickCumulativeOutside=0, secondsPerLiquidityOutsideX128=0, secondsOutside=0, initialized=False)\n",
      "tick_return for 16: ticks_return(liquidityGross=0, liquidityNet=0, feeGrowthOutside0X128=0, feeGrowthOutside1X128=0, tickCumulativeOutside=0, secondsPerLiquidityOutsideX128=0, secondsOutside=0, initialized=False)\n",
      "tick_return for 17: ticks_return(liquidityGross=0, liquidityNet=0, feeGrowthOutside0X128=0, feeGrowthOutside1X128=0, tickCumulativeOutside=0, secondsPerLiquidityOutsideX128=0, secondsOutside=0, initialized=False)\n",
      "tick_return for 18: ticks_return(liquidityGross=0, liquidityNet=0, feeGrowthOutside0X128=0, feeGrowthOutside1X128=0, tickCumulativeOutside=0, secondsPerLiquidityOutsideX128=0, secondsOutside=0, initialized=False)\n",
      "tick_return for 19: ticks_return(liquidityGross=0, liquidityNet=0, feeGrowthOutside0X128=0, feeGrowthOutside1X128=0, tickCumulativeOutside=0, secondsPerLiquidityOutsideX128=0, secondsOutside=0, initialized=False)\n",
      "tick_return for 20: ticks_return(liquidityGross=0, liquidityNet=0, feeGrowthOutside0X128=0, feeGrowthOutside1X128=0, tickCumulativeOutside=0, secondsPerLiquidityOutsideX128=0, secondsOutside=0, initialized=False)\n",
      "tick_return for 21: ticks_return(liquidityGross=0, liquidityNet=0, feeGrowthOutside0X128=0, feeGrowthOutside1X128=0, tickCumulativeOutside=0, secondsPerLiquidityOutsideX128=0, secondsOutside=0, initialized=False)\n",
      "tick_return for 22: ticks_return(liquidityGross=0, liquidityNet=0, feeGrowthOutside0X128=0, feeGrowthOutside1X128=0, tickCumulativeOutside=0, secondsPerLiquidityOutsideX128=0, secondsOutside=0, initialized=False)\n",
      "tick_return for 23: ticks_return(liquidityGross=0, liquidityNet=0, feeGrowthOutside0X128=0, feeGrowthOutside1X128=0, tickCumulativeOutside=0, secondsPerLiquidityOutsideX128=0, secondsOutside=0, initialized=False)\n",
      "tick_return for 24: ticks_return(liquidityGross=0, liquidityNet=0, feeGrowthOutside0X128=0, feeGrowthOutside1X128=0, tickCumulativeOutside=0, secondsPerLiquidityOutsideX128=0, secondsOutside=0, initialized=False)\n",
      "tick_return for 25: ticks_return(liquidityGross=0, liquidityNet=0, feeGrowthOutside0X128=0, feeGrowthOutside1X128=0, tickCumulativeOutside=0, secondsPerLiquidityOutsideX128=0, secondsOutside=0, initialized=False)\n",
      "tick_return for 26: ticks_return(liquidityGross=0, liquidityNet=0, feeGrowthOutside0X128=0, feeGrowthOutside1X128=0, tickCumulativeOutside=0, secondsPerLiquidityOutsideX128=0, secondsOutside=0, initialized=False)\n",
      "tick_return for 27: ticks_return(liquidityGross=0, liquidityNet=0, feeGrowthOutside0X128=0, feeGrowthOutside1X128=0, tickCumulativeOutside=0, secondsPerLiquidityOutsideX128=0, secondsOutside=0, initialized=False)\n",
      "tick_return for 28: ticks_return(liquidityGross=0, liquidityNet=0, feeGrowthOutside0X128=0, feeGrowthOutside1X128=0, tickCumulativeOutside=0, secondsPerLiquidityOutsideX128=0, secondsOutside=0, initialized=False)\n",
      "tick_return for 29: ticks_return(liquidityGross=0, liquidityNet=0, feeGrowthOutside0X128=0, feeGrowthOutside1X128=0, tickCumulativeOutside=0, secondsPerLiquidityOutsideX128=0, secondsOutside=0, initialized=False)\n",
      "tick_return for 30: ticks_return(liquidityGross=0, liquidityNet=0, feeGrowthOutside0X128=0, feeGrowthOutside1X128=0, tickCumulativeOutside=0, secondsPerLiquidityOutsideX128=0, secondsOutside=0, initialized=False)\n",
      "tick_return for 31: ticks_return(liquidityGross=0, liquidityNet=0, feeGrowthOutside0X128=0, feeGrowthOutside1X128=0, tickCumulativeOutside=0, secondsPerLiquidityOutsideX128=0, secondsOutside=0, initialized=False)\n",
      "tick_return for 32: ticks_return(liquidityGross=0, liquidityNet=0, feeGrowthOutside0X128=0, feeGrowthOutside1X128=0, tickCumulativeOutside=0, secondsPerLiquidityOutsideX128=0, secondsOutside=0, initialized=False)\n",
      "tick_return for 33: ticks_return(liquidityGross=0, liquidityNet=0, feeGrowthOutside0X128=0, feeGrowthOutside1X128=0, tickCumulativeOutside=0, secondsPerLiquidityOutsideX128=0, secondsOutside=0, initialized=False)\n",
      "tick_return for 34: ticks_return(liquidityGross=0, liquidityNet=0, feeGrowthOutside0X128=0, feeGrowthOutside1X128=0, tickCumulativeOutside=0, secondsPerLiquidityOutsideX128=0, secondsOutside=0, initialized=False)\n",
      "tick_return for 35: ticks_return(liquidityGross=0, liquidityNet=0, feeGrowthOutside0X128=0, feeGrowthOutside1X128=0, tickCumulativeOutside=0, secondsPerLiquidityOutsideX128=0, secondsOutside=0, initialized=False)\n",
      "tick_return for 36: ticks_return(liquidityGross=0, liquidityNet=0, feeGrowthOutside0X128=0, feeGrowthOutside1X128=0, tickCumulativeOutside=0, secondsPerLiquidityOutsideX128=0, secondsOutside=0, initialized=False)\n",
      "tick_return for 37: ticks_return(liquidityGross=0, liquidityNet=0, feeGrowthOutside0X128=0, feeGrowthOutside1X128=0, tickCumulativeOutside=0, secondsPerLiquidityOutsideX128=0, secondsOutside=0, initialized=False)\n"
     ]
    },
    {
     "name": "stdout",
     "output_type": "stream",
     "text": [
      "tick_return for 38: ticks_return(liquidityGross=0, liquidityNet=0, feeGrowthOutside0X128=0, feeGrowthOutside1X128=0, tickCumulativeOutside=0, secondsPerLiquidityOutsideX128=0, secondsOutside=0, initialized=False)\n",
      "tick_return for 39: ticks_return(liquidityGross=0, liquidityNet=0, feeGrowthOutside0X128=0, feeGrowthOutside1X128=0, tickCumulativeOutside=0, secondsPerLiquidityOutsideX128=0, secondsOutside=0, initialized=False)\n",
      "tick_return for 40: ticks_return(liquidityGross=0, liquidityNet=0, feeGrowthOutside0X128=0, feeGrowthOutside1X128=0, tickCumulativeOutside=0, secondsPerLiquidityOutsideX128=0, secondsOutside=0, initialized=False)\n",
      "tick_return for 41: ticks_return(liquidityGross=0, liquidityNet=0, feeGrowthOutside0X128=0, feeGrowthOutside1X128=0, tickCumulativeOutside=0, secondsPerLiquidityOutsideX128=0, secondsOutside=0, initialized=False)\n",
      "tick_return for 42: ticks_return(liquidityGross=0, liquidityNet=0, feeGrowthOutside0X128=0, feeGrowthOutside1X128=0, tickCumulativeOutside=0, secondsPerLiquidityOutsideX128=0, secondsOutside=0, initialized=False)\n",
      "tick_return for 43: ticks_return(liquidityGross=0, liquidityNet=0, feeGrowthOutside0X128=0, feeGrowthOutside1X128=0, tickCumulativeOutside=0, secondsPerLiquidityOutsideX128=0, secondsOutside=0, initialized=False)\n",
      "tick_return for 44: ticks_return(liquidityGross=0, liquidityNet=0, feeGrowthOutside0X128=0, feeGrowthOutside1X128=0, tickCumulativeOutside=0, secondsPerLiquidityOutsideX128=0, secondsOutside=0, initialized=False)\n",
      "tick_return for 45: ticks_return(liquidityGross=0, liquidityNet=0, feeGrowthOutside0X128=0, feeGrowthOutside1X128=0, tickCumulativeOutside=0, secondsPerLiquidityOutsideX128=0, secondsOutside=0, initialized=False)\n",
      "tick_return for 46: ticks_return(liquidityGross=0, liquidityNet=0, feeGrowthOutside0X128=0, feeGrowthOutside1X128=0, tickCumulativeOutside=0, secondsPerLiquidityOutsideX128=0, secondsOutside=0, initialized=False)\n",
      "tick_return for 47: ticks_return(liquidityGross=0, liquidityNet=0, feeGrowthOutside0X128=0, feeGrowthOutside1X128=0, tickCumulativeOutside=0, secondsPerLiquidityOutsideX128=0, secondsOutside=0, initialized=False)\n",
      "tick_return for 48: ticks_return(liquidityGross=0, liquidityNet=0, feeGrowthOutside0X128=0, feeGrowthOutside1X128=0, tickCumulativeOutside=0, secondsPerLiquidityOutsideX128=0, secondsOutside=0, initialized=False)\n",
      "tick_return for 49: ticks_return(liquidityGross=0, liquidityNet=0, feeGrowthOutside0X128=0, feeGrowthOutside1X128=0, tickCumulativeOutside=0, secondsPerLiquidityOutsideX128=0, secondsOutside=0, initialized=False)\n",
      "tick_return for 50: ticks_return(liquidityGross=0, liquidityNet=0, feeGrowthOutside0X128=0, feeGrowthOutside1X128=0, tickCumulativeOutside=0, secondsPerLiquidityOutsideX128=0, secondsOutside=0, initialized=False)\n",
      "tick_return for 51: ticks_return(liquidityGross=0, liquidityNet=0, feeGrowthOutside0X128=0, feeGrowthOutside1X128=0, tickCumulativeOutside=0, secondsPerLiquidityOutsideX128=0, secondsOutside=0, initialized=False)\n",
      "tick_return for 52: ticks_return(liquidityGross=0, liquidityNet=0, feeGrowthOutside0X128=0, feeGrowthOutside1X128=0, tickCumulativeOutside=0, secondsPerLiquidityOutsideX128=0, secondsOutside=0, initialized=False)\n",
      "tick_return for 53: ticks_return(liquidityGross=0, liquidityNet=0, feeGrowthOutside0X128=0, feeGrowthOutside1X128=0, tickCumulativeOutside=0, secondsPerLiquidityOutsideX128=0, secondsOutside=0, initialized=False)\n",
      "tick_return for 54: ticks_return(liquidityGross=0, liquidityNet=0, feeGrowthOutside0X128=0, feeGrowthOutside1X128=0, tickCumulativeOutside=0, secondsPerLiquidityOutsideX128=0, secondsOutside=0, initialized=False)\n",
      "tick_return for 55: ticks_return(liquidityGross=0, liquidityNet=0, feeGrowthOutside0X128=0, feeGrowthOutside1X128=0, tickCumulativeOutside=0, secondsPerLiquidityOutsideX128=0, secondsOutside=0, initialized=False)\n",
      "tick_return for 56: ticks_return(liquidityGross=0, liquidityNet=0, feeGrowthOutside0X128=0, feeGrowthOutside1X128=0, tickCumulativeOutside=0, secondsPerLiquidityOutsideX128=0, secondsOutside=0, initialized=False)\n",
      "tick_return for 57: ticks_return(liquidityGross=0, liquidityNet=0, feeGrowthOutside0X128=0, feeGrowthOutside1X128=0, tickCumulativeOutside=0, secondsPerLiquidityOutsideX128=0, secondsOutside=0, initialized=False)\n",
      "tick_return for 58: ticks_return(liquidityGross=0, liquidityNet=0, feeGrowthOutside0X128=0, feeGrowthOutside1X128=0, tickCumulativeOutside=0, secondsPerLiquidityOutsideX128=0, secondsOutside=0, initialized=False)\n",
      "tick_return for 59: ticks_return(liquidityGross=0, liquidityNet=0, feeGrowthOutside0X128=0, feeGrowthOutside1X128=0, tickCumulativeOutside=0, secondsPerLiquidityOutsideX128=0, secondsOutside=0, initialized=False)\n",
      "tick_return for 60: ticks_return(liquidityGross=0, liquidityNet=0, feeGrowthOutside0X128=0, feeGrowthOutside1X128=0, tickCumulativeOutside=0, secondsPerLiquidityOutsideX128=0, secondsOutside=0, initialized=False)\n",
      "tick_return for 61: ticks_return(liquidityGross=0, liquidityNet=0, feeGrowthOutside0X128=0, feeGrowthOutside1X128=0, tickCumulativeOutside=0, secondsPerLiquidityOutsideX128=0, secondsOutside=0, initialized=False)\n",
      "tick_return for 62: ticks_return(liquidityGross=0, liquidityNet=0, feeGrowthOutside0X128=0, feeGrowthOutside1X128=0, tickCumulativeOutside=0, secondsPerLiquidityOutsideX128=0, secondsOutside=0, initialized=False)\n",
      "tick_return for 63: ticks_return(liquidityGross=0, liquidityNet=0, feeGrowthOutside0X128=0, feeGrowthOutside1X128=0, tickCumulativeOutside=0, secondsPerLiquidityOutsideX128=0, secondsOutside=0, initialized=False)\n",
      "tick_return for 64: ticks_return(liquidityGross=0, liquidityNet=0, feeGrowthOutside0X128=0, feeGrowthOutside1X128=0, tickCumulativeOutside=0, secondsPerLiquidityOutsideX128=0, secondsOutside=0, initialized=False)\n",
      "tick_return for 65: ticks_return(liquidityGross=0, liquidityNet=0, feeGrowthOutside0X128=0, feeGrowthOutside1X128=0, tickCumulativeOutside=0, secondsPerLiquidityOutsideX128=0, secondsOutside=0, initialized=False)\n",
      "tick_return for 66: ticks_return(liquidityGross=0, liquidityNet=0, feeGrowthOutside0X128=0, feeGrowthOutside1X128=0, tickCumulativeOutside=0, secondsPerLiquidityOutsideX128=0, secondsOutside=0, initialized=False)\n",
      "tick_return for 67: ticks_return(liquidityGross=817791452578899972780, liquidityNet=-817791452578899972780, feeGrowthOutside0X128=44359365403851026373610139368953553243, feeGrowthOutside1X128=73333641296766929621640279466317249, tickCumulativeOutside=-20283195396, secondsPerLiquidityOutsideX128=236150501174768956957, secondsOutside=316404, initialized=True)\n",
      "tick_return for 68: ticks_return(liquidityGross=0, liquidityNet=0, feeGrowthOutside0X128=0, feeGrowthOutside1X128=0, tickCumulativeOutside=0, secondsPerLiquidityOutsideX128=0, secondsOutside=0, initialized=False)\n",
      "tick_return for 69: ticks_return(liquidityGross=0, liquidityNet=0, feeGrowthOutside0X128=0, feeGrowthOutside1X128=0, tickCumulativeOutside=0, secondsPerLiquidityOutsideX128=0, secondsOutside=0, initialized=False)\n",
      "tick_return for 70: ticks_return(liquidityGross=0, liquidityNet=0, feeGrowthOutside0X128=0, feeGrowthOutside1X128=0, tickCumulativeOutside=0, secondsPerLiquidityOutsideX128=0, secondsOutside=0, initialized=False)\n",
      "tick_return for 71: ticks_return(liquidityGross=0, liquidityNet=0, feeGrowthOutside0X128=0, feeGrowthOutside1X128=0, tickCumulativeOutside=0, secondsPerLiquidityOutsideX128=0, secondsOutside=0, initialized=False)\n",
      "tick_return for 72: ticks_return(liquidityGross=0, liquidityNet=0, feeGrowthOutside0X128=0, feeGrowthOutside1X128=0, tickCumulativeOutside=0, secondsPerLiquidityOutsideX128=0, secondsOutside=0, initialized=False)\n",
      "tick_return for 73: ticks_return(liquidityGross=0, liquidityNet=0, feeGrowthOutside0X128=0, feeGrowthOutside1X128=0, tickCumulativeOutside=0, secondsPerLiquidityOutsideX128=0, secondsOutside=0, initialized=False)\n",
      "tick_return for 74: ticks_return(liquidityGross=0, liquidityNet=0, feeGrowthOutside0X128=0, feeGrowthOutside1X128=0, tickCumulativeOutside=0, secondsPerLiquidityOutsideX128=0, secondsOutside=0, initialized=False)\n",
      "tick_return for 75: ticks_return(liquidityGross=0, liquidityNet=0, feeGrowthOutside0X128=0, feeGrowthOutside1X128=0, tickCumulativeOutside=0, secondsPerLiquidityOutsideX128=0, secondsOutside=0, initialized=False)\n"
     ]
    },
    {
     "name": "stdout",
     "output_type": "stream",
     "text": [
      "tick_return for 76: ticks_return(liquidityGross=0, liquidityNet=0, feeGrowthOutside0X128=0, feeGrowthOutside1X128=0, tickCumulativeOutside=0, secondsPerLiquidityOutsideX128=0, secondsOutside=0, initialized=False)\n",
      "tick_return for 77: ticks_return(liquidityGross=0, liquidityNet=0, feeGrowthOutside0X128=0, feeGrowthOutside1X128=0, tickCumulativeOutside=0, secondsPerLiquidityOutsideX128=0, secondsOutside=0, initialized=False)\n",
      "tick_return for 78: ticks_return(liquidityGross=0, liquidityNet=0, feeGrowthOutside0X128=0, feeGrowthOutside1X128=0, tickCumulativeOutside=0, secondsPerLiquidityOutsideX128=0, secondsOutside=0, initialized=False)\n",
      "tick_return for 79: ticks_return(liquidityGross=0, liquidityNet=0, feeGrowthOutside0X128=0, feeGrowthOutside1X128=0, tickCumulativeOutside=0, secondsPerLiquidityOutsideX128=0, secondsOutside=0, initialized=False)\n",
      "tick_return for 80: ticks_return(liquidityGross=0, liquidityNet=0, feeGrowthOutside0X128=0, feeGrowthOutside1X128=0, tickCumulativeOutside=0, secondsPerLiquidityOutsideX128=0, secondsOutside=0, initialized=False)\n",
      "tick_return for 81: ticks_return(liquidityGross=0, liquidityNet=0, feeGrowthOutside0X128=0, feeGrowthOutside1X128=0, tickCumulativeOutside=0, secondsPerLiquidityOutsideX128=0, secondsOutside=0, initialized=False)\n",
      "tick_return for 82: ticks_return(liquidityGross=0, liquidityNet=0, feeGrowthOutside0X128=0, feeGrowthOutside1X128=0, tickCumulativeOutside=0, secondsPerLiquidityOutsideX128=0, secondsOutside=0, initialized=False)\n",
      "tick_return for 83: ticks_return(liquidityGross=0, liquidityNet=0, feeGrowthOutside0X128=0, feeGrowthOutside1X128=0, tickCumulativeOutside=0, secondsPerLiquidityOutsideX128=0, secondsOutside=0, initialized=False)\n",
      "tick_return for 84: ticks_return(liquidityGross=0, liquidityNet=0, feeGrowthOutside0X128=0, feeGrowthOutside1X128=0, tickCumulativeOutside=0, secondsPerLiquidityOutsideX128=0, secondsOutside=0, initialized=False)\n",
      "tick_return for 85: ticks_return(liquidityGross=0, liquidityNet=0, feeGrowthOutside0X128=0, feeGrowthOutside1X128=0, tickCumulativeOutside=0, secondsPerLiquidityOutsideX128=0, secondsOutside=0, initialized=False)\n",
      "tick_return for 86: ticks_return(liquidityGross=0, liquidityNet=0, feeGrowthOutside0X128=0, feeGrowthOutside1X128=0, tickCumulativeOutside=0, secondsPerLiquidityOutsideX128=0, secondsOutside=0, initialized=False)\n",
      "tick_return for 87: ticks_return(liquidityGross=0, liquidityNet=0, feeGrowthOutside0X128=0, feeGrowthOutside1X128=0, tickCumulativeOutside=0, secondsPerLiquidityOutsideX128=0, secondsOutside=0, initialized=False)\n",
      "tick_return for 88: ticks_return(liquidityGross=0, liquidityNet=0, feeGrowthOutside0X128=0, feeGrowthOutside1X128=0, tickCumulativeOutside=0, secondsPerLiquidityOutsideX128=0, secondsOutside=0, initialized=False)\n",
      "tick_return for 89: ticks_return(liquidityGross=0, liquidityNet=0, feeGrowthOutside0X128=0, feeGrowthOutside1X128=0, tickCumulativeOutside=0, secondsPerLiquidityOutsideX128=0, secondsOutside=0, initialized=False)\n",
      "tick_return for 90: ticks_return(liquidityGross=0, liquidityNet=0, feeGrowthOutside0X128=0, feeGrowthOutside1X128=0, tickCumulativeOutside=0, secondsPerLiquidityOutsideX128=0, secondsOutside=0, initialized=False)\n",
      "tick_return for 91: ticks_return(liquidityGross=0, liquidityNet=0, feeGrowthOutside0X128=0, feeGrowthOutside1X128=0, tickCumulativeOutside=0, secondsPerLiquidityOutsideX128=0, secondsOutside=0, initialized=False)\n",
      "tick_return for 92: ticks_return(liquidityGross=0, liquidityNet=0, feeGrowthOutside0X128=0, feeGrowthOutside1X128=0, tickCumulativeOutside=0, secondsPerLiquidityOutsideX128=0, secondsOutside=0, initialized=False)\n",
      "tick_return for 93: ticks_return(liquidityGross=0, liquidityNet=0, feeGrowthOutside0X128=0, feeGrowthOutside1X128=0, tickCumulativeOutside=0, secondsPerLiquidityOutsideX128=0, secondsOutside=0, initialized=False)\n",
      "tick_return for 94: ticks_return(liquidityGross=0, liquidityNet=0, feeGrowthOutside0X128=0, feeGrowthOutside1X128=0, tickCumulativeOutside=0, secondsPerLiquidityOutsideX128=0, secondsOutside=0, initialized=False)\n",
      "tick_return for 95: ticks_return(liquidityGross=0, liquidityNet=0, feeGrowthOutside0X128=0, feeGrowthOutside1X128=0, tickCumulativeOutside=0, secondsPerLiquidityOutsideX128=0, secondsOutside=0, initialized=False)\n",
      "tick_return for 96: ticks_return(liquidityGross=0, liquidityNet=0, feeGrowthOutside0X128=0, feeGrowthOutside1X128=0, tickCumulativeOutside=0, secondsPerLiquidityOutsideX128=0, secondsOutside=0, initialized=False)\n",
      "tick_return for 97: ticks_return(liquidityGross=0, liquidityNet=0, feeGrowthOutside0X128=0, feeGrowthOutside1X128=0, tickCumulativeOutside=0, secondsPerLiquidityOutsideX128=0, secondsOutside=0, initialized=False)\n",
      "tick_return for 98: ticks_return(liquidityGross=0, liquidityNet=0, feeGrowthOutside0X128=0, feeGrowthOutside1X128=0, tickCumulativeOutside=0, secondsPerLiquidityOutsideX128=0, secondsOutside=0, initialized=False)\n",
      "tick_return for 99: ticks_return(liquidityGross=0, liquidityNet=0, feeGrowthOutside0X128=0, feeGrowthOutside1X128=0, tickCumulativeOutside=0, secondsPerLiquidityOutsideX128=0, secondsOutside=0, initialized=False)\n",
      "tick_return for 100: ticks_return(liquidityGross=0, liquidityNet=0, feeGrowthOutside0X128=0, feeGrowthOutside1X128=0, tickCumulativeOutside=0, secondsPerLiquidityOutsideX128=0, secondsOutside=0, initialized=False)\n",
      "tick_return for 101: ticks_return(liquidityGross=0, liquidityNet=0, feeGrowthOutside0X128=0, feeGrowthOutside1X128=0, tickCumulativeOutside=0, secondsPerLiquidityOutsideX128=0, secondsOutside=0, initialized=False)\n",
      "tick_return for 102: ticks_return(liquidityGross=0, liquidityNet=0, feeGrowthOutside0X128=0, feeGrowthOutside1X128=0, tickCumulativeOutside=0, secondsPerLiquidityOutsideX128=0, secondsOutside=0, initialized=False)\n",
      "tick_return for 103: ticks_return(liquidityGross=0, liquidityNet=0, feeGrowthOutside0X128=0, feeGrowthOutside1X128=0, tickCumulativeOutside=0, secondsPerLiquidityOutsideX128=0, secondsOutside=0, initialized=False)\n",
      "tick_return for 104: ticks_return(liquidityGross=0, liquidityNet=0, feeGrowthOutside0X128=0, feeGrowthOutside1X128=0, tickCumulativeOutside=0, secondsPerLiquidityOutsideX128=0, secondsOutside=0, initialized=False)\n",
      "tick_return for 105: ticks_return(liquidityGross=0, liquidityNet=0, feeGrowthOutside0X128=0, feeGrowthOutside1X128=0, tickCumulativeOutside=0, secondsPerLiquidityOutsideX128=0, secondsOutside=0, initialized=False)\n",
      "tick_return for 106: ticks_return(liquidityGross=0, liquidityNet=0, feeGrowthOutside0X128=0, feeGrowthOutside1X128=0, tickCumulativeOutside=0, secondsPerLiquidityOutsideX128=0, secondsOutside=0, initialized=False)\n",
      "tick_return for 107: ticks_return(liquidityGross=0, liquidityNet=0, feeGrowthOutside0X128=0, feeGrowthOutside1X128=0, tickCumulativeOutside=0, secondsPerLiquidityOutsideX128=0, secondsOutside=0, initialized=False)\n",
      "tick_return for 108: ticks_return(liquidityGross=0, liquidityNet=0, feeGrowthOutside0X128=0, feeGrowthOutside1X128=0, tickCumulativeOutside=0, secondsPerLiquidityOutsideX128=0, secondsOutside=0, initialized=False)\n",
      "tick_return for 109: ticks_return(liquidityGross=0, liquidityNet=0, feeGrowthOutside0X128=0, feeGrowthOutside1X128=0, tickCumulativeOutside=0, secondsPerLiquidityOutsideX128=0, secondsOutside=0, initialized=False)\n",
      "tick_return for 110: ticks_return(liquidityGross=0, liquidityNet=0, feeGrowthOutside0X128=0, feeGrowthOutside1X128=0, tickCumulativeOutside=0, secondsPerLiquidityOutsideX128=0, secondsOutside=0, initialized=False)\n",
      "tick_return for 111: ticks_return(liquidityGross=0, liquidityNet=0, feeGrowthOutside0X128=0, feeGrowthOutside1X128=0, tickCumulativeOutside=0, secondsPerLiquidityOutsideX128=0, secondsOutside=0, initialized=False)\n",
      "tick_return for 112: ticks_return(liquidityGross=0, liquidityNet=0, feeGrowthOutside0X128=0, feeGrowthOutside1X128=0, tickCumulativeOutside=0, secondsPerLiquidityOutsideX128=0, secondsOutside=0, initialized=False)\n",
      "tick_return for 113: ticks_return(liquidityGross=0, liquidityNet=0, feeGrowthOutside0X128=0, feeGrowthOutside1X128=0, tickCumulativeOutside=0, secondsPerLiquidityOutsideX128=0, secondsOutside=0, initialized=False)\n",
      "tick_return for 114: ticks_return(liquidityGross=0, liquidityNet=0, feeGrowthOutside0X128=0, feeGrowthOutside1X128=0, tickCumulativeOutside=0, secondsPerLiquidityOutsideX128=0, secondsOutside=0, initialized=False)\n",
      "tick_return for 115: ticks_return(liquidityGross=0, liquidityNet=0, feeGrowthOutside0X128=0, feeGrowthOutside1X128=0, tickCumulativeOutside=0, secondsPerLiquidityOutsideX128=0, secondsOutside=0, initialized=False)\n"
     ]
    },
    {
     "name": "stdout",
     "output_type": "stream",
     "text": [
      "tick_return for 116: ticks_return(liquidityGross=0, liquidityNet=0, feeGrowthOutside0X128=0, feeGrowthOutside1X128=0, tickCumulativeOutside=0, secondsPerLiquidityOutsideX128=0, secondsOutside=0, initialized=False)\n",
      "tick_return for 117: ticks_return(liquidityGross=0, liquidityNet=0, feeGrowthOutside0X128=0, feeGrowthOutside1X128=0, tickCumulativeOutside=0, secondsPerLiquidityOutsideX128=0, secondsOutside=0, initialized=False)\n",
      "tick_return for 118: ticks_return(liquidityGross=0, liquidityNet=0, feeGrowthOutside0X128=0, feeGrowthOutside1X128=0, tickCumulativeOutside=0, secondsPerLiquidityOutsideX128=0, secondsOutside=0, initialized=False)\n",
      "tick_return for 119: ticks_return(liquidityGross=0, liquidityNet=0, feeGrowthOutside0X128=0, feeGrowthOutside1X128=0, tickCumulativeOutside=0, secondsPerLiquidityOutsideX128=0, secondsOutside=0, initialized=False)\n"
     ]
    }
   ],
   "source": [
    "for i in range(2*tick_spacing):\n",
    "    tick_return = pool.ticks(slot0.tick + i)\n",
    "    print(f\"tick_return for {i}:\", tick_return)"
   ]
  },
  {
   "cell_type": "code",
   "execution_count": null,
   "id": "6b78f20b",
   "metadata": {},
   "outputs": [],
   "source": []
  }
 ],
 "metadata": {
  "kernelspec": {
   "display_name": "Python 3 (ipykernel)",
   "language": "python",
   "name": "python3"
  },
  "language_info": {
   "codemirror_mode": {
    "name": "ipython",
    "version": 3
   },
   "file_extension": ".py",
   "mimetype": "text/x-python",
   "name": "python",
   "nbconvert_exporter": "python",
   "pygments_lexer": "ipython3",
   "version": "3.10.8"
  }
 },
 "nbformat": 4,
 "nbformat_minor": 5
}
