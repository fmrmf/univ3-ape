{
 "cells": [
  {
   "cell_type": "code",
   "execution_count": null,
   "id": "fce082de",
   "metadata": {},
   "outputs": [],
   "source": [
    "\"\"\"\n",
    "univ3-liquidity.ipynb\n",
    "\n",
    "Goal with this notebook is to plot the liquidity distribution\n",
    "of a given pool over time.\n",
    "\n",
    "Should be able to view a 2-D snapshot of liquidity at a particular\n",
    "block (with time slider) and, more generally, a 3D plot of the full\n",
    "liquidity distribution history over time.\n",
    "\"\"\""
   ]
  },
  {
   "cell_type": "code",
   "execution_count": 2,
   "id": "65d15f95",
   "metadata": {},
   "outputs": [],
   "source": [
    "import matplotlib.pyplot as plt\n",
    "import numpy as np\n",
    "import pandas as pd\n",
    "import typing as tp\n",
    "from ape import accounts, chain, Contract, networks"
   ]
  },
  {
   "cell_type": "code",
   "execution_count": 3,
   "id": "3d6d47ec",
   "metadata": {},
   "outputs": [
    {
     "data": {
      "text/plain": [
       "<alchemy chain_id=1>"
      ]
     },
     "execution_count": 3,
     "metadata": {},
     "output_type": "execute_result"
    }
   ],
   "source": [
    "# SEE: https://gist.github.com/banteg/dcf6082ff7fc6ad51ce220146f29d9ff\n",
    "networks.parse_network_choice('ethereum:mainnet:alchemy').__enter__()"
   ]
  },
  {
   "cell_type": "code",
   "execution_count": 6,
   "id": "15fcf916",
   "metadata": {},
   "outputs": [
    {
     "data": {
      "text/plain": [
       "<UniswapV3Factory 0x1F98431c8aD98523631AE4a59f267346ea31F984>"
      ]
     },
     "execution_count": 6,
     "metadata": {},
     "output_type": "execute_result"
    }
   ],
   "source": [
    "# SEE: https://docs.uniswap.org/contracts/v3/reference/deployments\n",
    "factory = Contract(\"0x1F98431c8aD98523631AE4a59f267346ea31F984\")\n",
    "factory"
   ]
  },
  {
   "cell_type": "code",
   "execution_count": 7,
   "id": "60bc8d84",
   "metadata": {},
   "outputs": [],
   "source": [
    "deploy_block = 12369621  # block when factory deployed"
   ]
  },
  {
   "cell_type": "code",
   "execution_count": null,
   "id": "3975d0e8",
   "metadata": {},
   "outputs": [],
   "source": []
  }
 ],
 "metadata": {
  "kernelspec": {
   "display_name": "Python 3 (ipykernel)",
   "language": "python",
   "name": "python3"
  },
  "language_info": {
   "codemirror_mode": {
    "name": "ipython",
    "version": 3
   },
   "file_extension": ".py",
   "mimetype": "text/x-python",
   "name": "python",
   "nbconvert_exporter": "python",
   "pygments_lexer": "ipython3",
   "version": "3.10.8"
  }
 },
 "nbformat": 4,
 "nbformat_minor": 5
}
